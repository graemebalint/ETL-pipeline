{
 "cells": [
  {
   "cell_type": "markdown",
   "id": "72a0bd4b",
   "metadata": {},
   "source": [
    "**Data EXTRACTION was done manually by downloading the CSV files from municipal open data portals.**"
   ]
  },
  {
   "cell_type": "code",
   "execution_count": 1,
   "id": "3d96a75a",
   "metadata": {},
   "outputs": [],
   "source": [
    "import pandas as pd\n",
    "import numpy as np"
   ]
  },
  {
   "cell_type": "code",
   "execution_count": 2,
   "id": "a5da6f73",
   "metadata": {},
   "outputs": [],
   "source": [
    "df = pd.read_csv(\"edmonton_business_licenses.csv\",on_bad_lines=\"warn\")"
   ]
  },
  {
   "cell_type": "markdown",
   "id": "83cfbd9f",
   "metadata": {},
   "source": [
    "**Drop columns which are not needed.**"
   ]
  },
  {
   "cell_type": "code",
   "execution_count": 3,
   "id": "cc1bba36",
   "metadata": {},
   "outputs": [],
   "source": [
    "drop_cols = ['Licence Status','Business Improvement Area','Neighbourhood ID','Neighbourhood','Ward','Latitude','Longitude','Location','Count','Geometry Point']\n",
    "df = df.drop(drop_cols,axis=1)"
   ]
  },
  {
   "cell_type": "markdown",
   "id": "d251eabf",
   "metadata": {},
   "source": [
    "**Rename columns.**"
   ]
  },
  {
   "cell_type": "code",
   "execution_count": 4,
   "id": "462c65da",
   "metadata": {
    "scrolled": true
   },
   "outputs": [],
   "source": [
    "df = df.rename(columns={'Trade Name':'Business Name','Licence Number':'License Number'})"
   ]
  },
  {
   "cell_type": "markdown",
   "id": "39eb6416",
   "metadata": {},
   "source": [
    "**Reorder columns in dataframe. I arbitrarily decided on column ordering based on a gut feeling of what is most intuitive.**"
   ]
  },
  {
   "cell_type": "code",
   "execution_count": 5,
   "id": "49729237",
   "metadata": {},
   "outputs": [],
   "source": [
    "columns = df.columns\n",
    "df = df[\n",
    "    [columns[3],columns[1],columns[0],columns[4],columns[5],columns[2]]\n",
    "       ]"
   ]
  },
  {
   "cell_type": "code",
   "execution_count": 6,
   "id": "127fe3a8",
   "metadata": {},
   "outputs": [
    {
     "name": "stdout",
     "output_type": "stream",
     "text": [
      "<class 'pandas.core.frame.DataFrame'>\n",
      "RangeIndex: 39394 entries, 0 to 39393\n",
      "Data columns (total 6 columns):\n",
      " #   Column          Non-Null Count  Dtype \n",
      "---  ------          --------------  ----- \n",
      " 0   License Number  39394 non-null  object\n",
      " 1   Business Name   39393 non-null  object\n",
      " 2   Category        39394 non-null  object\n",
      " 3   Issue Date      39392 non-null  object\n",
      " 4   Expiry Date     39394 non-null  object\n",
      " 5   Address         25832 non-null  object\n",
      "dtypes: object(6)\n",
      "memory usage: 1.8+ MB\n"
     ]
    }
   ],
   "source": [
    "df.info()"
   ]
  },
  {
   "cell_type": "markdown",
   "id": "4a720c0f",
   "metadata": {},
   "source": [
    "**Modify column dtypes to match their values more appriopriately.**"
   ]
  },
  {
   "cell_type": "code",
   "execution_count": 7,
   "id": "f60a1c1b",
   "metadata": {},
   "outputs": [],
   "source": [
    "df[\"Issue Date\"] = pd.to_datetime(df[\"Issue Date\"])\n",
    "df[\"Expiry Date\"] = pd.to_datetime(df[\"Expiry Date\"])"
   ]
  },
  {
   "cell_type": "markdown",
   "id": "7438ed09",
   "metadata": {},
   "source": [
    "**Observe 'Issue Date' and 'Expiry Date' are now datetime.**"
   ]
  },
  {
   "cell_type": "code",
   "execution_count": 8,
   "id": "a8540ac4",
   "metadata": {},
   "outputs": [
    {
     "name": "stdout",
     "output_type": "stream",
     "text": [
      "<class 'pandas.core.frame.DataFrame'>\n",
      "RangeIndex: 39394 entries, 0 to 39393\n",
      "Data columns (total 6 columns):\n",
      " #   Column          Non-Null Count  Dtype         \n",
      "---  ------          --------------  -----         \n",
      " 0   License Number  39394 non-null  object        \n",
      " 1   Business Name   39393 non-null  object        \n",
      " 2   Category        39394 non-null  object        \n",
      " 3   Issue Date      39392 non-null  datetime64[ns]\n",
      " 4   Expiry Date     39394 non-null  datetime64[ns]\n",
      " 5   Address         25832 non-null  object        \n",
      "dtypes: datetime64[ns](2), object(4)\n",
      "memory usage: 1.8+ MB\n"
     ]
    }
   ],
   "source": [
    "df.info()"
   ]
  },
  {
   "cell_type": "markdown",
   "id": "0cab8ad0",
   "metadata": {},
   "source": [
    "**I chose to include the phone information from the Toronoto dataset. In order to merge all 3 city datasets into 1 unified database, the columns need to be consistent across each table.**"
   ]
  },
  {
   "cell_type": "markdown",
   "id": "7fe0823d",
   "metadata": {},
   "source": [
    "**Adding the missing columns.**"
   ]
  },
  {
   "cell_type": "code",
   "execution_count": 9,
   "id": "7ea00564",
   "metadata": {},
   "outputs": [],
   "source": [
    "df.insert(5,\"Phone Number\",np.nan)\n",
    "df.insert(6,\"Phone Ext.\",np.nan)\n",
    "df.insert(7,\"Phone Type\",np.nan)\n",
    "df.insert(9,\"City\",'Edmonton')"
   ]
  },
  {
   "cell_type": "code",
   "execution_count": 10,
   "id": "79fb37d8",
   "metadata": {
    "scrolled": true
   },
   "outputs": [
    {
     "data": {
      "text/html": [
       "<div>\n",
       "<style scoped>\n",
       "    .dataframe tbody tr th:only-of-type {\n",
       "        vertical-align: middle;\n",
       "    }\n",
       "\n",
       "    .dataframe tbody tr th {\n",
       "        vertical-align: top;\n",
       "    }\n",
       "\n",
       "    .dataframe thead th {\n",
       "        text-align: right;\n",
       "    }\n",
       "</style>\n",
       "<table border=\"1\" class=\"dataframe\">\n",
       "  <thead>\n",
       "    <tr style=\"text-align: right;\">\n",
       "      <th></th>\n",
       "      <th>License Number</th>\n",
       "      <th>Business Name</th>\n",
       "      <th>Category</th>\n",
       "      <th>Issue Date</th>\n",
       "      <th>Expiry Date</th>\n",
       "      <th>Phone Number</th>\n",
       "      <th>Phone Ext.</th>\n",
       "      <th>Phone Type</th>\n",
       "      <th>Address</th>\n",
       "      <th>City</th>\n",
       "    </tr>\n",
       "  </thead>\n",
       "  <tbody>\n",
       "    <tr>\n",
       "      <th>0</th>\n",
       "      <td>100001421-002</td>\n",
       "      <td>INTERIOR ILLUSIONS</td>\n",
       "      <td>General Business</td>\n",
       "      <td>2021-09-24</td>\n",
       "      <td>2022-09-24</td>\n",
       "      <td>NaN</td>\n",
       "      <td>NaN</td>\n",
       "      <td>NaN</td>\n",
       "      <td>NaN</td>\n",
       "      <td>Edmonton</td>\n",
       "    </tr>\n",
       "    <tr>\n",
       "      <th>1</th>\n",
       "      <td>101224086-002</td>\n",
       "      <td>OPENING DOORS</td>\n",
       "      <td>General Business</td>\n",
       "      <td>2021-11-02</td>\n",
       "      <td>2022-11-04</td>\n",
       "      <td>NaN</td>\n",
       "      <td>NaN</td>\n",
       "      <td>NaN</td>\n",
       "      <td>NaN</td>\n",
       "      <td>Edmonton</td>\n",
       "    </tr>\n",
       "    <tr>\n",
       "      <th>2</th>\n",
       "      <td>101481614-002</td>\n",
       "      <td>AGP TRUCKING LTD</td>\n",
       "      <td>Delivery/Transportation Services</td>\n",
       "      <td>2021-09-22</td>\n",
       "      <td>2022-10-13</td>\n",
       "      <td>NaN</td>\n",
       "      <td>NaN</td>\n",
       "      <td>NaN</td>\n",
       "      <td>NaN</td>\n",
       "      <td>Edmonton</td>\n",
       "    </tr>\n",
       "    <tr>\n",
       "      <th>3</th>\n",
       "      <td>101988181-003</td>\n",
       "      <td>ELEGANT MOTORS</td>\n",
       "      <td>Vehicle Repair</td>\n",
       "      <td>2021-03-08</td>\n",
       "      <td>2022-04-17</td>\n",
       "      <td>NaN</td>\n",
       "      <td>NaN</td>\n",
       "      <td>NaN</td>\n",
       "      <td>NaN</td>\n",
       "      <td>Edmonton</td>\n",
       "    </tr>\n",
       "    <tr>\n",
       "      <th>4</th>\n",
       "      <td>102754139-004</td>\n",
       "      <td>HAIRCANDY</td>\n",
       "      <td>Minor Retail Store</td>\n",
       "      <td>2021-11-25</td>\n",
       "      <td>2022-12-07</td>\n",
       "      <td>NaN</td>\n",
       "      <td>NaN</td>\n",
       "      <td>NaN</td>\n",
       "      <td>NaN</td>\n",
       "      <td>Edmonton</td>\n",
       "    </tr>\n",
       "    <tr>\n",
       "      <th>...</th>\n",
       "      <td>...</td>\n",
       "      <td>...</td>\n",
       "      <td>...</td>\n",
       "      <td>...</td>\n",
       "      <td>...</td>\n",
       "      <td>...</td>\n",
       "      <td>...</td>\n",
       "      <td>...</td>\n",
       "      <td>...</td>\n",
       "      <td>...</td>\n",
       "    </tr>\n",
       "    <tr>\n",
       "      <th>39389</th>\n",
       "      <td>7479134-001</td>\n",
       "      <td>SHIPLEY CONSTRUCTION INC</td>\n",
       "      <td>General Contractor</td>\n",
       "      <td>2021-12-02</td>\n",
       "      <td>2022-12-02</td>\n",
       "      <td>NaN</td>\n",
       "      <td>NaN</td>\n",
       "      <td>NaN</td>\n",
       "      <td>NaN</td>\n",
       "      <td>Edmonton</td>\n",
       "    </tr>\n",
       "    <tr>\n",
       "      <th>39390</th>\n",
       "      <td>84167978-001</td>\n",
       "      <td>FX INC TATTOOS &amp; PIERCING</td>\n",
       "      <td>Personal Service Shop</td>\n",
       "      <td>2021-01-21</td>\n",
       "      <td>2022-02-25</td>\n",
       "      <td>NaN</td>\n",
       "      <td>NaN</td>\n",
       "      <td>NaN</td>\n",
       "      <td>1401, 8882 - 170 STREET NW</td>\n",
       "      <td>Edmonton</td>\n",
       "    </tr>\n",
       "    <tr>\n",
       "      <th>39391</th>\n",
       "      <td>88231442-002</td>\n",
       "      <td>LOUD MOUTH COMMUNICATIONS</td>\n",
       "      <td>General Business</td>\n",
       "      <td>2021-01-03</td>\n",
       "      <td>2022-01-11</td>\n",
       "      <td>NaN</td>\n",
       "      <td>NaN</td>\n",
       "      <td>NaN</td>\n",
       "      <td>NaN</td>\n",
       "      <td>Edmonton</td>\n",
       "    </tr>\n",
       "    <tr>\n",
       "      <th>39392</th>\n",
       "      <td>94584438-002</td>\n",
       "      <td>MIXES R US</td>\n",
       "      <td>Food Processing</td>\n",
       "      <td>2021-10-25</td>\n",
       "      <td>2022-10-25</td>\n",
       "      <td>NaN</td>\n",
       "      <td>NaN</td>\n",
       "      <td>NaN</td>\n",
       "      <td>312 - DUNLUCE ROAD NW</td>\n",
       "      <td>Edmonton</td>\n",
       "    </tr>\n",
       "    <tr>\n",
       "      <th>39393</th>\n",
       "      <td>83627367-001</td>\n",
       "      <td>LABOUR READY</td>\n",
       "      <td>General Business</td>\n",
       "      <td>2021-01-06</td>\n",
       "      <td>2022-01-12</td>\n",
       "      <td>NaN</td>\n",
       "      <td>NaN</td>\n",
       "      <td>NaN</td>\n",
       "      <td>9945 - 63 AVENUE NW</td>\n",
       "      <td>Edmonton</td>\n",
       "    </tr>\n",
       "  </tbody>\n",
       "</table>\n",
       "<p>39394 rows × 10 columns</p>\n",
       "</div>"
      ],
      "text/plain": [
       "      License Number              Business Name  \\\n",
       "0      100001421-002         INTERIOR ILLUSIONS   \n",
       "1      101224086-002              OPENING DOORS   \n",
       "2      101481614-002           AGP TRUCKING LTD   \n",
       "3      101988181-003             ELEGANT MOTORS   \n",
       "4      102754139-004                  HAIRCANDY   \n",
       "...              ...                        ...   \n",
       "39389    7479134-001   SHIPLEY CONSTRUCTION INC   \n",
       "39390   84167978-001  FX INC TATTOOS & PIERCING   \n",
       "39391   88231442-002  LOUD MOUTH COMMUNICATIONS   \n",
       "39392   94584438-002                 MIXES R US   \n",
       "39393   83627367-001               LABOUR READY   \n",
       "\n",
       "                               Category Issue Date Expiry Date  Phone Number  \\\n",
       "0                      General Business 2021-09-24  2022-09-24           NaN   \n",
       "1                      General Business 2021-11-02  2022-11-04           NaN   \n",
       "2      Delivery/Transportation Services 2021-09-22  2022-10-13           NaN   \n",
       "3                        Vehicle Repair 2021-03-08  2022-04-17           NaN   \n",
       "4                    Minor Retail Store 2021-11-25  2022-12-07           NaN   \n",
       "...                                 ...        ...         ...           ...   \n",
       "39389                General Contractor 2021-12-02  2022-12-02           NaN   \n",
       "39390             Personal Service Shop 2021-01-21  2022-02-25           NaN   \n",
       "39391                  General Business 2021-01-03  2022-01-11           NaN   \n",
       "39392                   Food Processing 2021-10-25  2022-10-25           NaN   \n",
       "39393                  General Business 2021-01-06  2022-01-12           NaN   \n",
       "\n",
       "       Phone Ext.  Phone Type                     Address      City  \n",
       "0             NaN         NaN                         NaN  Edmonton  \n",
       "1             NaN         NaN                         NaN  Edmonton  \n",
       "2             NaN         NaN                         NaN  Edmonton  \n",
       "3             NaN         NaN                         NaN  Edmonton  \n",
       "4             NaN         NaN                         NaN  Edmonton  \n",
       "...           ...         ...                         ...       ...  \n",
       "39389         NaN         NaN                         NaN  Edmonton  \n",
       "39390         NaN         NaN  1401, 8882 - 170 STREET NW  Edmonton  \n",
       "39391         NaN         NaN                         NaN  Edmonton  \n",
       "39392         NaN         NaN       312 - DUNLUCE ROAD NW  Edmonton  \n",
       "39393         NaN         NaN         9945 - 63 AVENUE NW  Edmonton  \n",
       "\n",
       "[39394 rows x 10 columns]"
      ]
     },
     "execution_count": 10,
     "metadata": {},
     "output_type": "execute_result"
    }
   ],
   "source": [
    "df"
   ]
  },
  {
   "cell_type": "markdown",
   "id": "cb4e992e",
   "metadata": {},
   "source": [
    "**Convert dataframe back to CSV for concatenation.**"
   ]
  },
  {
   "cell_type": "code",
   "execution_count": 11,
   "id": "f6b70f84",
   "metadata": {},
   "outputs": [],
   "source": [
    " df.to_csv('/Users/graemebalint/Documents/Python/Jupyter Notebooks/Canadian Businesses/csv_reformatted/edmonton_reformatted.csv',index=False)  "
   ]
  }
 ],
 "metadata": {
  "kernelspec": {
   "display_name": "Python 3 (ipykernel)",
   "language": "python",
   "name": "python3"
  },
  "language_info": {
   "codemirror_mode": {
    "name": "ipython",
    "version": 3
   },
   "file_extension": ".py",
   "mimetype": "text/x-python",
   "name": "python",
   "nbconvert_exporter": "python",
   "pygments_lexer": "ipython3",
   "version": "3.9.13"
  }
 },
 "nbformat": 4,
 "nbformat_minor": 5
}
