{
 "cells": [
  {
   "cell_type": "markdown",
   "id": "0479ef49",
   "metadata": {},
   "source": [
    "**Data EXTRACTION was done manually by downloading the CSV files from municipal open data portals.**"
   ]
  },
  {
   "cell_type": "code",
   "execution_count": 1,
   "id": "8ea2ac08",
   "metadata": {},
   "outputs": [],
   "source": [
    "import pandas as pd\n",
    "import numpy as np"
   ]
  },
  {
   "cell_type": "code",
   "execution_count": 2,
   "id": "86b9aae8",
   "metadata": {},
   "outputs": [
    {
     "name": "stderr",
     "output_type": "stream",
     "text": [
      "/var/folders/lm/g6mgw7vd5_d3xjgrm7k7tvz00000gn/T/ipykernel_41944/1940338114.py:1: DtypeWarning: Columns (7,14) have mixed types. Specify dtype option on import or set low_memory=False.\n",
      "  df = pd.read_csv('toronto_business_licenses.csv')\n"
     ]
    }
   ],
   "source": [
    "df = pd.read_csv('toronto_business_licenses.csv')"
   ]
  },
  {
   "cell_type": "markdown",
   "id": "a503953f",
   "metadata": {},
   "source": [
    "**Set option to suppress scientific notation on the phone numbers. Removing decimal places.**"
   ]
  },
  {
   "cell_type": "code",
   "execution_count": 3,
   "id": "a5ebcdaf",
   "metadata": {},
   "outputs": [],
   "source": [
    "pd.reset_option('display.float_format')"
   ]
  },
  {
   "cell_type": "code",
   "execution_count": 4,
   "id": "cd04191a",
   "metadata": {},
   "outputs": [],
   "source": [
    "pd.set_option('display.float_format', lambda x: '%.f' % x)"
   ]
  },
  {
   "cell_type": "markdown",
   "id": "41ba98e0",
   "metadata": {},
   "source": [
    "**Rename columns.**"
   ]
  },
  {
   "cell_type": "code",
   "execution_count": 5,
   "id": "bc8ffd65",
   "metadata": {},
   "outputs": [],
   "source": [
    "df = df.rename(columns={'Operating Name':'Business Name'\n",
    "                        ,'Issued':'Issue Date'\n",
    "                        ,'Cancel Date':'License Cancel Date'\n",
    "                        ,'Licence No.': 'License Number'\n",
    "                        ,'Business Phone':'Phone Number'\n",
    "                        ,'Business Phone Ext.':'Phone Ext.'\n",
    "                        ,'Business Phone Type':'Phone Type'\n",
    "                       }\n",
    "              )"
   ]
  },
  {
   "cell_type": "markdown",
   "id": "29f5c9d8",
   "metadata": {},
   "source": [
    "**Add 2 new columns, 1 for phone # type and 1 for a concatenated address.**"
   ]
  },
  {
   "cell_type": "code",
   "execution_count": 6,
   "id": "e291442e",
   "metadata": {},
   "outputs": [],
   "source": [
    "df.insert(5,'Expiry Date',np.nan)\n",
    "df.insert(8,'Phone Type',df['Phone Ext.'])\n",
    "df.insert(9,'City','Toronto')\n",
    "df['Address'] = df['Licence Address Line 1']+df['Licence Address Line 2']+df['Licence Address Line 3']"
   ]
  },
  {
   "cell_type": "markdown",
   "id": "a0cf1ccf",
   "metadata": {},
   "source": [
    "**Modify column dtypes to match their values more appriopriately.**"
   ]
  },
  {
   "cell_type": "code",
   "execution_count": 7,
   "id": "2e24c8af",
   "metadata": {},
   "outputs": [],
   "source": [
    "df['Issue Date'] = pd.to_datetime(df['Issue Date'])\n",
    "df['Phone Ext.'] = pd.to_numeric(df['Phone Ext.'],errors='coerce')\n",
    "df['Expiry Date'] = pd.to_datetime(df['Expiry Date'])"
   ]
  },
  {
   "cell_type": "markdown",
   "id": "df3cfafe",
   "metadata": {},
   "source": [
    "**Drop columns which are not needed.**"
   ]
  },
  {
   "cell_type": "code",
   "execution_count": 8,
   "id": "1b53602e",
   "metadata": {},
   "outputs": [],
   "source": [
    "drop_cols = ['_id'\n",
    "             ,'Client Name'\n",
    "             ,'Conditions'\n",
    "             ,'Free Form Conditions Line 1'\n",
    "             ,'Free Form Conditions Line 2'\n",
    "             ,'Plate No.'\n",
    "             ,'Endorsements'\n",
    "             ,'Licence Address Line 1'\n",
    "             ,'Licence Address Line 2'\n",
    "             ,'Licence Address Line 3'\n",
    "             ,'License Cancel Date'\n",
    "             ,'Last Record Update'\n",
    "            ]\n",
    "df = df.drop(drop_cols, axis=1)"
   ]
  },
  {
   "cell_type": "markdown",
   "id": "793d4b85",
   "metadata": {},
   "source": [
    "**Lambda function to convert all Business Phone Type data to string. Then convert all missing values to np.nan and all non null values to title case.**"
   ]
  },
  {
   "cell_type": "code",
   "execution_count": 9,
   "id": "fe4700a2",
   "metadata": {
    "scrolled": true
   },
   "outputs": [],
   "source": [
    "df['Phone Type'] = df['Phone Type'].apply(lambda x: str(x))\n",
    "\n",
    "for i in df.index:\n",
    "    if df['Phone Type'].iloc[i] != 'nan':\n",
    "        if df['Phone Type'].iloc[i].isnumeric():\n",
    "#             print(df['Business Phone Type'].iloc[i])\n",
    "            df.at[i,'Phone Type'] = 'nan'\n",
    "\n",
    "for i in df.index:\n",
    "    if df['Phone Type'].iloc[i] == 'nan':\n",
    "        df.at[i,'Phone Type'] = np.nan\n",
    "\n",
    "df['Phone Type'] = df['Phone Type'].str.title()"
   ]
  },
  {
   "cell_type": "markdown",
   "id": "5c6a754d",
   "metadata": {},
   "source": [
    "**Function to reformat phone numbers so they are more human readable.**"
   ]
  },
  {
   "cell_type": "code",
   "execution_count": 10,
   "id": "cd3e8a3e",
   "metadata": {
    "scrolled": true
   },
   "outputs": [],
   "source": [
    "def format_number(x):\n",
    "    NPA = str(x)[:3]\n",
    "    NXX = str(x)[3:6]\n",
    "    XXXX = str(int(x))[6:]\n",
    "\n",
    "    formatted_number = '(' + NPA + ')' + ' ' + NXX + ' - ' + XXXX\n",
    "    return formatted_number\n",
    "\n",
    "df['Phone Number'] = df['Phone Number'].apply(lambda x: format_number(x) if pd.isnull(x) == False else x)"
   ]
  },
  {
   "cell_type": "code",
   "execution_count": 11,
   "id": "2aef8393",
   "metadata": {},
   "outputs": [],
   "source": [
    "# df[(df[\"Business Phone\"].notnull()) | (df[\"Business Phone Type\"].notna()) | (df[\"Business Phone Ext.\"].notna())]"
   ]
  },
  {
   "cell_type": "code",
   "execution_count": 12,
   "id": "c8b437b1",
   "metadata": {},
   "outputs": [
    {
     "name": "stdout",
     "output_type": "stream",
     "text": [
      "Index(['Category', 'License Number', 'Business Name', 'Issue Date',\n",
      "       'Expiry Date', 'Phone Number', 'Phone Type', 'City', 'Phone Ext.',\n",
      "       'Address'],\n",
      "      dtype='object')\n",
      "10\n"
     ]
    }
   ],
   "source": [
    "columns = df.columns\n",
    "print(columns)\n",
    "print(len(columns))"
   ]
  },
  {
   "cell_type": "markdown",
   "id": "d68e00ad",
   "metadata": {},
   "source": [
    "**Reorder columns in dataframe. I arbitrarily decided on column ordering based on a gut feeling of what is most intuitive.**"
   ]
  },
  {
   "cell_type": "code",
   "execution_count": 13,
   "id": "2182952a",
   "metadata": {},
   "outputs": [],
   "source": [
    "df = df[\n",
    "    [columns[1],columns[2],columns[0],columns[3],columns[4],columns[5],columns[6],columns[8],columns[9],columns[7]]\n",
    "]"
   ]
  },
  {
   "cell_type": "code",
   "execution_count": 14,
   "id": "45d87805",
   "metadata": {
    "scrolled": false
   },
   "outputs": [
    {
     "data": {
      "text/html": [
       "<div>\n",
       "<style scoped>\n",
       "    .dataframe tbody tr th:only-of-type {\n",
       "        vertical-align: middle;\n",
       "    }\n",
       "\n",
       "    .dataframe tbody tr th {\n",
       "        vertical-align: top;\n",
       "    }\n",
       "\n",
       "    .dataframe thead th {\n",
       "        text-align: right;\n",
       "    }\n",
       "</style>\n",
       "<table border=\"1\" class=\"dataframe\">\n",
       "  <thead>\n",
       "    <tr style=\"text-align: right;\">\n",
       "      <th></th>\n",
       "      <th>License Number</th>\n",
       "      <th>Business Name</th>\n",
       "      <th>Category</th>\n",
       "      <th>Issue Date</th>\n",
       "      <th>Expiry Date</th>\n",
       "      <th>Phone Number</th>\n",
       "      <th>Phone Type</th>\n",
       "      <th>Phone Ext.</th>\n",
       "      <th>Address</th>\n",
       "      <th>City</th>\n",
       "    </tr>\n",
       "  </thead>\n",
       "  <tbody>\n",
       "    <tr>\n",
       "      <th>0</th>\n",
       "      <td>B02-4741962</td>\n",
       "      <td>TAXIFY</td>\n",
       "      <td>PRIVATE TRANSPORTATION COMPANY</td>\n",
       "      <td>2018-01-18</td>\n",
       "      <td>NaT</td>\n",
       "      <td>NaN</td>\n",
       "      <td>NaN</td>\n",
       "      <td>NaN</td>\n",
       "      <td>35 OAK ST, #304TORONTO, ONM9N 1A1</td>\n",
       "      <td>Toronto</td>\n",
       "    </tr>\n",
       "    <tr>\n",
       "      <th>1</th>\n",
       "      <td>B02-4728645</td>\n",
       "      <td>INSTARYDE</td>\n",
       "      <td>PRIVATE TRANSPORTATION COMPANY</td>\n",
       "      <td>2017-09-08</td>\n",
       "      <td>NaT</td>\n",
       "      <td>NaN</td>\n",
       "      <td>NaN</td>\n",
       "      <td>NaN</td>\n",
       "      <td>425 ALNESS STTORONTO, ONM3J 2T8</td>\n",
       "      <td>Toronto</td>\n",
       "    </tr>\n",
       "    <tr>\n",
       "      <th>2</th>\n",
       "      <td>B02-4807677</td>\n",
       "      <td>DRIVEHER TRANSPORTATION</td>\n",
       "      <td>PRIVATE TRANSPORTATION COMPANY</td>\n",
       "      <td>2018-03-08</td>\n",
       "      <td>NaT</td>\n",
       "      <td>NaN</td>\n",
       "      <td>NaN</td>\n",
       "      <td>NaN</td>\n",
       "      <td>100 DUNDAS ST E, #502MISSISSAUGA, ONL5A 1W5</td>\n",
       "      <td>Toronto</td>\n",
       "    </tr>\n",
       "    <tr>\n",
       "      <th>3</th>\n",
       "      <td>B02-4653451</td>\n",
       "      <td>UBER CANADA</td>\n",
       "      <td>PRIVATE TRANSPORTATION COMPANY</td>\n",
       "      <td>2016-08-16</td>\n",
       "      <td>NaT</td>\n",
       "      <td>(514) 589 - 8345</td>\n",
       "      <td>NaN</td>\n",
       "      <td>NaN</td>\n",
       "      <td>121 BLOOR ST E, #1600TORONTO, ONM4W 3M5</td>\n",
       "      <td>Toronto</td>\n",
       "    </tr>\n",
       "    <tr>\n",
       "      <th>4</th>\n",
       "      <td>B02-4691773</td>\n",
       "      <td>FACEDRIVE</td>\n",
       "      <td>PRIVATE TRANSPORTATION COMPANY</td>\n",
       "      <td>2017-04-04</td>\n",
       "      <td>NaT</td>\n",
       "      <td>(289) 452 - 0164</td>\n",
       "      <td>NaN</td>\n",
       "      <td>NaN</td>\n",
       "      <td>44 EAST BEAVER CREEK RD, #16RICHMOND HILL, ONL...</td>\n",
       "      <td>Toronto</td>\n",
       "    </tr>\n",
       "    <tr>\n",
       "      <th>...</th>\n",
       "      <td>...</td>\n",
       "      <td>...</td>\n",
       "      <td>...</td>\n",
       "      <td>...</td>\n",
       "      <td>...</td>\n",
       "      <td>...</td>\n",
       "      <td>...</td>\n",
       "      <td>...</td>\n",
       "      <td>...</td>\n",
       "      <td>...</td>\n",
       "    </tr>\n",
       "    <tr>\n",
       "      <th>154223</th>\n",
       "      <td>V27-5234313</td>\n",
       "      <td>NaN</td>\n",
       "      <td>NON-MOTORIZED REFRESHMENT VEHICLE OWNER</td>\n",
       "      <td>2022-10-26</td>\n",
       "      <td>NaT</td>\n",
       "      <td>NaN</td>\n",
       "      <td>NaN</td>\n",
       "      <td>NaN</td>\n",
       "      <td>NaN</td>\n",
       "      <td>Toronto</td>\n",
       "    </tr>\n",
       "    <tr>\n",
       "      <th>154224</th>\n",
       "      <td>V27-5233581</td>\n",
       "      <td>AMSTERDAM FRIES</td>\n",
       "      <td>NON-MOTORIZED REFRESHMENT VEHICLE OWNER</td>\n",
       "      <td>2022-10-27</td>\n",
       "      <td>NaT</td>\n",
       "      <td>NaN</td>\n",
       "      <td>NaN</td>\n",
       "      <td>NaN</td>\n",
       "      <td>1355 GERRARD ST ETORONTO, ONM4L 1Y8</td>\n",
       "      <td>Toronto</td>\n",
       "    </tr>\n",
       "    <tr>\n",
       "      <th>154225</th>\n",
       "      <td>V27-5236191</td>\n",
       "      <td>SUN SET HUT CARIBBEAN</td>\n",
       "      <td>NON-MOTORIZED REFRESHMENT VEHICLE OWNER</td>\n",
       "      <td>2022-11-07</td>\n",
       "      <td>NaT</td>\n",
       "      <td>NaN</td>\n",
       "      <td>NaN</td>\n",
       "      <td>NaN</td>\n",
       "      <td>3480 MCNICOLL AVE, #10TORONTO, ONM1V 5A7</td>\n",
       "      <td>Toronto</td>\n",
       "    </tr>\n",
       "    <tr>\n",
       "      <th>154226</th>\n",
       "      <td>V27-5238632</td>\n",
       "      <td>NaN</td>\n",
       "      <td>NON-MOTORIZED REFRESHMENT VEHICLE OWNER</td>\n",
       "      <td>2022-11-22</td>\n",
       "      <td>NaT</td>\n",
       "      <td>NaN</td>\n",
       "      <td>NaN</td>\n",
       "      <td>NaN</td>\n",
       "      <td>NaN</td>\n",
       "      <td>Toronto</td>\n",
       "    </tr>\n",
       "    <tr>\n",
       "      <th>154227</th>\n",
       "      <td>V27-5239702</td>\n",
       "      <td>D'LISH HOTDOGS &amp; SAUSAGES</td>\n",
       "      <td>NON-MOTORIZED REFRESHMENT VEHICLE OWNER</td>\n",
       "      <td>2022-12-08</td>\n",
       "      <td>NaT</td>\n",
       "      <td>NaN</td>\n",
       "      <td>NaN</td>\n",
       "      <td>NaN</td>\n",
       "      <td>NaN</td>\n",
       "      <td>Toronto</td>\n",
       "    </tr>\n",
       "  </tbody>\n",
       "</table>\n",
       "<p>154228 rows × 10 columns</p>\n",
       "</div>"
      ],
      "text/plain": [
       "       License Number              Business Name  \\\n",
       "0         B02-4741962                     TAXIFY   \n",
       "1         B02-4728645                  INSTARYDE   \n",
       "2         B02-4807677    DRIVEHER TRANSPORTATION   \n",
       "3         B02-4653451                UBER CANADA   \n",
       "4         B02-4691773                  FACEDRIVE   \n",
       "...               ...                        ...   \n",
       "154223    V27-5234313                        NaN   \n",
       "154224    V27-5233581            AMSTERDAM FRIES   \n",
       "154225    V27-5236191      SUN SET HUT CARIBBEAN   \n",
       "154226    V27-5238632                        NaN   \n",
       "154227    V27-5239702  D'LISH HOTDOGS & SAUSAGES   \n",
       "\n",
       "                                       Category Issue Date Expiry Date  \\\n",
       "0                PRIVATE TRANSPORTATION COMPANY 2018-01-18         NaT   \n",
       "1                PRIVATE TRANSPORTATION COMPANY 2017-09-08         NaT   \n",
       "2                PRIVATE TRANSPORTATION COMPANY 2018-03-08         NaT   \n",
       "3                PRIVATE TRANSPORTATION COMPANY 2016-08-16         NaT   \n",
       "4                PRIVATE TRANSPORTATION COMPANY 2017-04-04         NaT   \n",
       "...                                         ...        ...         ...   \n",
       "154223  NON-MOTORIZED REFRESHMENT VEHICLE OWNER 2022-10-26         NaT   \n",
       "154224  NON-MOTORIZED REFRESHMENT VEHICLE OWNER 2022-10-27         NaT   \n",
       "154225  NON-MOTORIZED REFRESHMENT VEHICLE OWNER 2022-11-07         NaT   \n",
       "154226  NON-MOTORIZED REFRESHMENT VEHICLE OWNER 2022-11-22         NaT   \n",
       "154227  NON-MOTORIZED REFRESHMENT VEHICLE OWNER 2022-12-08         NaT   \n",
       "\n",
       "            Phone Number Phone Type  Phone Ext.  \\\n",
       "0                    NaN        NaN         NaN   \n",
       "1                    NaN        NaN         NaN   \n",
       "2                    NaN        NaN         NaN   \n",
       "3       (514) 589 - 8345        NaN         NaN   \n",
       "4       (289) 452 - 0164        NaN         NaN   \n",
       "...                  ...        ...         ...   \n",
       "154223               NaN        NaN         NaN   \n",
       "154224               NaN        NaN         NaN   \n",
       "154225               NaN        NaN         NaN   \n",
       "154226               NaN        NaN         NaN   \n",
       "154227               NaN        NaN         NaN   \n",
       "\n",
       "                                                  Address     City  \n",
       "0                       35 OAK ST, #304TORONTO, ONM9N 1A1  Toronto  \n",
       "1                         425 ALNESS STTORONTO, ONM3J 2T8  Toronto  \n",
       "2             100 DUNDAS ST E, #502MISSISSAUGA, ONL5A 1W5  Toronto  \n",
       "3                 121 BLOOR ST E, #1600TORONTO, ONM4W 3M5  Toronto  \n",
       "4       44 EAST BEAVER CREEK RD, #16RICHMOND HILL, ONL...  Toronto  \n",
       "...                                                   ...      ...  \n",
       "154223                                                NaN  Toronto  \n",
       "154224                1355 GERRARD ST ETORONTO, ONM4L 1Y8  Toronto  \n",
       "154225           3480 MCNICOLL AVE, #10TORONTO, ONM1V 5A7  Toronto  \n",
       "154226                                                NaN  Toronto  \n",
       "154227                                                NaN  Toronto  \n",
       "\n",
       "[154228 rows x 10 columns]"
      ]
     },
     "execution_count": 14,
     "metadata": {},
     "output_type": "execute_result"
    }
   ],
   "source": [
    "df"
   ]
  },
  {
   "cell_type": "markdown",
   "id": "6570e5f7",
   "metadata": {},
   "source": [
    "**Convert dataframe back to CSV for concatenation.**"
   ]
  },
  {
   "cell_type": "code",
   "execution_count": 15,
   "id": "df94bf3f",
   "metadata": {},
   "outputs": [],
   "source": [
    " df.to_csv('/Users/graemebalint/Documents/Python/Jupyter Notebooks/Canadian Businesses/csv_reformatted/toronto_reformatted.csv',index=False)  "
   ]
  }
 ],
 "metadata": {
  "kernelspec": {
   "display_name": "Python 3 (ipykernel)",
   "language": "python",
   "name": "python3"
  },
  "language_info": {
   "codemirror_mode": {
    "name": "ipython",
    "version": 3
   },
   "file_extension": ".py",
   "mimetype": "text/x-python",
   "name": "python",
   "nbconvert_exporter": "python",
   "pygments_lexer": "ipython3",
   "version": "3.9.13"
  }
 },
 "nbformat": 4,
 "nbformat_minor": 5
}
